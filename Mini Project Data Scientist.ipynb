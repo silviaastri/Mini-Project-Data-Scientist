{
 "cells": [
  {
   "cell_type": "markdown",
   "id": "0fdc77f8",
   "metadata": {},
   "source": [
    "### Import Library"
   ]
  },
  {
   "cell_type": "code",
   "execution_count": 2,
   "id": "e0349e96",
   "metadata": {},
   "outputs": [],
   "source": [
    "import pandas as pd\n",
    "import numpy as np\n",
    "import matplotlib.pyplot as plt\n",
    "import seaborn as sns\n",
    "from sklearn.preprocessing import LabelEncoder\n",
    "from imblearn.over_sampling import SMOTE\n",
    "import warnings\n",
    "warnings.filterwarnings('ignore')\n",
    "\n",
    "sns.despine(left=True, bottom=True)\n",
    "pd.set_option('display.max_columns', None)\n",
    "pd.set_option('display.float_format','{:.4f}'.format)\n",
    "sns.set()\n",
    "%matplotlib inline"
   ]
  },
  {
   "cell_type": "markdown",
   "id": "56068edb",
   "metadata": {},
   "source": [
    "### Load Dataset"
   ]
  },
  {
   "cell_type": "code",
   "execution_count": 109,
   "id": "fdd1a0cb",
   "metadata": {},
   "outputs": [
    {
     "data": {
      "text/html": [
       "<div>\n",
       "<style scoped>\n",
       "    .dataframe tbody tr th:only-of-type {\n",
       "        vertical-align: middle;\n",
       "    }\n",
       "\n",
       "    .dataframe tbody tr th {\n",
       "        vertical-align: top;\n",
       "    }\n",
       "\n",
       "    .dataframe thead th {\n",
       "        text-align: right;\n",
       "    }\n",
       "</style>\n",
       "<table border=\"1\" class=\"dataframe\">\n",
       "  <thead>\n",
       "    <tr style=\"text-align: right;\">\n",
       "      <th></th>\n",
       "      <th>time</th>\n",
       "      <th>kemendagri_kabupaten_kode</th>\n",
       "      <th>kemendagri_kabupaten_nama</th>\n",
       "      <th>street</th>\n",
       "      <th>jam_level</th>\n",
       "      <th>median_length</th>\n",
       "      <th>median_delay_seconds</th>\n",
       "      <th>median_regular_speed</th>\n",
       "      <th>total_records</th>\n",
       "      <th>cause_type</th>\n",
       "      <th>median_seconds</th>\n",
       "      <th>median_speed</th>\n",
       "      <th>date</th>\n",
       "      <th>median_jam_level</th>\n",
       "      <th>id</th>\n",
       "      <th>geometry</th>\n",
       "    </tr>\n",
       "  </thead>\n",
       "  <tbody>\n",
       "    <tr>\n",
       "      <th>8543</th>\n",
       "      <td>2022-08-19 18:00:00.000</td>\n",
       "      <td>32.7300</td>\n",
       "      <td>KOTA BANDUNG</td>\n",
       "      <td>Wastukencana</td>\n",
       "      <td>3</td>\n",
       "      <td>660.0000</td>\n",
       "      <td>216.5000</td>\n",
       "      <td>25.1650</td>\n",
       "      <td>8</td>\n",
       "      <td>NaN</td>\n",
       "      <td>282.0000</td>\n",
       "      <td>8.4100</td>\n",
       "      <td>2022-08-19</td>\n",
       "      <td>3.0000</td>\n",
       "      <td>1561514</td>\n",
       "      <td>MULTILINESTRING ((107.604386 -6.904016, 107.60...</td>\n",
       "    </tr>\n",
       "    <tr>\n",
       "      <th>5296</th>\n",
       "      <td>2022-08-03 17:00:00.000</td>\n",
       "      <td>32.7300</td>\n",
       "      <td>KOTA BANDUNG</td>\n",
       "      <td>N11 Soekarno-Hatta</td>\n",
       "      <td>3</td>\n",
       "      <td>1428.0000</td>\n",
       "      <td>332.0000</td>\n",
       "      <td>20.3900</td>\n",
       "      <td>7</td>\n",
       "      <td>NaN</td>\n",
       "      <td>455.0000</td>\n",
       "      <td>11.2900</td>\n",
       "      <td>2022-08-03</td>\n",
       "      <td>3.0000</td>\n",
       "      <td>1539442</td>\n",
       "      <td>MULTILINESTRING ((107.575901 -6.930202, 107.57...</td>\n",
       "    </tr>\n",
       "    <tr>\n",
       "      <th>10223</th>\n",
       "      <td>2022-08-30 18:00:00.000</td>\n",
       "      <td>32.7300</td>\n",
       "      <td>KOTA BANDUNG</td>\n",
       "      <td>Cigondewah Kaler</td>\n",
       "      <td>4</td>\n",
       "      <td>588.0000</td>\n",
       "      <td>527.0000</td>\n",
       "      <td>16.5000</td>\n",
       "      <td>6</td>\n",
       "      <td>NaN</td>\n",
       "      <td>650.0000</td>\n",
       "      <td>3.2500</td>\n",
       "      <td>2022-08-30</td>\n",
       "      <td>4.0000</td>\n",
       "      <td>1574488</td>\n",
       "      <td>MULTILINESTRING ((107.566859 -6.939473, 107.56...</td>\n",
       "    </tr>\n",
       "    <tr>\n",
       "      <th>7986</th>\n",
       "      <td>2022-08-18 06:00:00.000</td>\n",
       "      <td>32.7300</td>\n",
       "      <td>KOTA BANDUNG</td>\n",
       "      <td>Soekarno-Hatta (Jalur Lambat)</td>\n",
       "      <td>4</td>\n",
       "      <td>1742.0000</td>\n",
       "      <td>798.0000</td>\n",
       "      <td>17.2900</td>\n",
       "      <td>25</td>\n",
       "      <td>NaN</td>\n",
       "      <td>926.0000</td>\n",
       "      <td>7.1200</td>\n",
       "      <td>2022-08-18</td>\n",
       "      <td>4.0000</td>\n",
       "      <td>1559969</td>\n",
       "      <td>MULTILINESTRING ((107.666996 -6.938965, 107.66...</td>\n",
       "    </tr>\n",
       "    <tr>\n",
       "      <th>6689</th>\n",
       "      <td>2022-08-11 17:00:00.000</td>\n",
       "      <td>32.7300</td>\n",
       "      <td>KOTA BANDUNG</td>\n",
       "      <td>Jalan Kuningan Raya</td>\n",
       "      <td>4</td>\n",
       "      <td>533.0000</td>\n",
       "      <td>516.0000</td>\n",
       "      <td>20.5700</td>\n",
       "      <td>23</td>\n",
       "      <td>NaN</td>\n",
       "      <td>583.0000</td>\n",
       "      <td>3.2800</td>\n",
       "      <td>2022-08-11</td>\n",
       "      <td>4.0000</td>\n",
       "      <td>1551190</td>\n",
       "      <td>MULTILINESTRING ((107.66024 -6.913727, 107.660...</td>\n",
       "    </tr>\n",
       "  </tbody>\n",
       "</table>\n",
       "</div>"
      ],
      "text/plain": [
       "                          time  kemendagri_kabupaten_kode  \\\n",
       "8543   2022-08-19 18:00:00.000                    32.7300   \n",
       "5296   2022-08-03 17:00:00.000                    32.7300   \n",
       "10223  2022-08-30 18:00:00.000                    32.7300   \n",
       "7986   2022-08-18 06:00:00.000                    32.7300   \n",
       "6689   2022-08-11 17:00:00.000                    32.7300   \n",
       "\n",
       "      kemendagri_kabupaten_nama                         street  jam_level  \\\n",
       "8543               KOTA BANDUNG                   Wastukencana          3   \n",
       "5296               KOTA BANDUNG             N11 Soekarno-Hatta          3   \n",
       "10223              KOTA BANDUNG               Cigondewah Kaler          4   \n",
       "7986               KOTA BANDUNG  Soekarno-Hatta (Jalur Lambat)          4   \n",
       "6689               KOTA BANDUNG            Jalan Kuningan Raya          4   \n",
       "\n",
       "       median_length  median_delay_seconds  median_regular_speed  \\\n",
       "8543        660.0000              216.5000               25.1650   \n",
       "5296       1428.0000              332.0000               20.3900   \n",
       "10223       588.0000              527.0000               16.5000   \n",
       "7986       1742.0000              798.0000               17.2900   \n",
       "6689        533.0000              516.0000               20.5700   \n",
       "\n",
       "       total_records  cause_type  median_seconds  median_speed        date  \\\n",
       "8543               8         NaN        282.0000        8.4100  2022-08-19   \n",
       "5296               7         NaN        455.0000       11.2900  2022-08-03   \n",
       "10223              6         NaN        650.0000        3.2500  2022-08-30   \n",
       "7986              25         NaN        926.0000        7.1200  2022-08-18   \n",
       "6689              23         NaN        583.0000        3.2800  2022-08-11   \n",
       "\n",
       "       median_jam_level       id  \\\n",
       "8543             3.0000  1561514   \n",
       "5296             3.0000  1539442   \n",
       "10223            4.0000  1574488   \n",
       "7986             4.0000  1559969   \n",
       "6689             4.0000  1551190   \n",
       "\n",
       "                                                geometry  \n",
       "8543   MULTILINESTRING ((107.604386 -6.904016, 107.60...  \n",
       "5296   MULTILINESTRING ((107.575901 -6.930202, 107.57...  \n",
       "10223  MULTILINESTRING ((107.566859 -6.939473, 107.56...  \n",
       "7986   MULTILINESTRING ((107.666996 -6.938965, 107.66...  \n",
       "6689   MULTILINESTRING ((107.66024 -6.913727, 107.660...  "
      ]
     },
     "execution_count": 109,
     "metadata": {},
     "output_type": "execute_result"
    }
   ],
   "source": [
    "irregular = pd.read_csv('..\\\\data_ds\\\\aggregate_median_irregularities_Kota Bandung.csv')\n",
    "irregular.sample(5)"
   ]
  },
  {
   "cell_type": "code",
   "execution_count": 110,
   "id": "4944bc21",
   "metadata": {},
   "outputs": [
    {
     "name": "stdout",
     "output_type": "stream",
     "text": [
      "<class 'pandas.core.frame.DataFrame'>\n",
      "RangeIndex: 11281 entries, 0 to 11280\n",
      "Data columns (total 16 columns):\n",
      " #   Column                     Non-Null Count  Dtype  \n",
      "---  ------                     --------------  -----  \n",
      " 0   time                       11281 non-null  object \n",
      " 1   kemendagri_kabupaten_kode  11281 non-null  float64\n",
      " 2   kemendagri_kabupaten_nama  11281 non-null  object \n",
      " 3   street                     11279 non-null  object \n",
      " 4   jam_level                  11281 non-null  int64  \n",
      " 5   median_length              11281 non-null  float64\n",
      " 6   median_delay_seconds       11281 non-null  float64\n",
      " 7   median_regular_speed       11281 non-null  float64\n",
      " 8   total_records              11281 non-null  int64  \n",
      " 9   cause_type                 0 non-null      float64\n",
      " 10  median_seconds             11281 non-null  float64\n",
      " 11  median_speed               11281 non-null  float64\n",
      " 12  date                       11281 non-null  object \n",
      " 13  median_jam_level           11281 non-null  float64\n",
      " 14  id                         11281 non-null  int64  \n",
      " 15  geometry                   11281 non-null  object \n",
      "dtypes: float64(8), int64(3), object(5)\n",
      "memory usage: 1.4+ MB\n"
     ]
    }
   ],
   "source": [
    "irregular.info()"
   ]
  },
  {
   "cell_type": "code",
   "execution_count": 111,
   "id": "9d391174",
   "metadata": {
    "scrolled": true
   },
   "outputs": [
    {
     "data": {
      "text/html": [
       "<div>\n",
       "<style scoped>\n",
       "    .dataframe tbody tr th:only-of-type {\n",
       "        vertical-align: middle;\n",
       "    }\n",
       "\n",
       "    .dataframe tbody tr th {\n",
       "        vertical-align: top;\n",
       "    }\n",
       "\n",
       "    .dataframe thead th {\n",
       "        text-align: right;\n",
       "    }\n",
       "</style>\n",
       "<table border=\"1\" class=\"dataframe\">\n",
       "  <thead>\n",
       "    <tr style=\"text-align: right;\">\n",
       "      <th></th>\n",
       "      <th>kemendagri_kabupaten_kode</th>\n",
       "      <th>jam_level</th>\n",
       "      <th>median_length</th>\n",
       "      <th>median_delay_seconds</th>\n",
       "      <th>median_regular_speed</th>\n",
       "      <th>total_records</th>\n",
       "      <th>cause_type</th>\n",
       "      <th>median_seconds</th>\n",
       "      <th>median_speed</th>\n",
       "      <th>median_jam_level</th>\n",
       "      <th>id</th>\n",
       "    </tr>\n",
       "  </thead>\n",
       "  <tbody>\n",
       "    <tr>\n",
       "      <th>count</th>\n",
       "      <td>11281.0000</td>\n",
       "      <td>11281.0000</td>\n",
       "      <td>11281.0000</td>\n",
       "      <td>11281.0000</td>\n",
       "      <td>11281.0000</td>\n",
       "      <td>11281.0000</td>\n",
       "      <td>0.0000</td>\n",
       "      <td>11281.0000</td>\n",
       "      <td>11281.0000</td>\n",
       "      <td>11281.0000</td>\n",
       "      <td>11281.0000</td>\n",
       "    </tr>\n",
       "    <tr>\n",
       "      <th>mean</th>\n",
       "      <td>32.7300</td>\n",
       "      <td>3.5471</td>\n",
       "      <td>1389.0950</td>\n",
       "      <td>584.4868</td>\n",
       "      <td>17.4797</td>\n",
       "      <td>14.0081</td>\n",
       "      <td>NaN</td>\n",
       "      <td>723.9772</td>\n",
       "      <td>7.4301</td>\n",
       "      <td>3.5471</td>\n",
       "      <td>1540736.9231</td>\n",
       "    </tr>\n",
       "    <tr>\n",
       "      <th>std</th>\n",
       "      <td>0.0000</td>\n",
       "      <td>0.5788</td>\n",
       "      <td>853.6588</td>\n",
       "      <td>275.7439</td>\n",
       "      <td>9.1330</td>\n",
       "      <td>14.9567</td>\n",
       "      <td>NaN</td>\n",
       "      <td>308.1615</td>\n",
       "      <td>4.2803</td>\n",
       "      <td>0.5788</td>\n",
       "      <td>25637.8360</td>\n",
       "    </tr>\n",
       "    <tr>\n",
       "      <th>min</th>\n",
       "      <td>32.7300</td>\n",
       "      <td>1.0000</td>\n",
       "      <td>500.0000</td>\n",
       "      <td>-97.0000</td>\n",
       "      <td>2.4500</td>\n",
       "      <td>1.0000</td>\n",
       "      <td>NaN</td>\n",
       "      <td>132.0000</td>\n",
       "      <td>0.8800</td>\n",
       "      <td>1.0000</td>\n",
       "      <td>1492844.0000</td>\n",
       "    </tr>\n",
       "    <tr>\n",
       "      <th>25%</th>\n",
       "      <td>32.7300</td>\n",
       "      <td>3.0000</td>\n",
       "      <td>788.0000</td>\n",
       "      <td>402.0000</td>\n",
       "      <td>12.4450</td>\n",
       "      <td>4.0000</td>\n",
       "      <td>NaN</td>\n",
       "      <td>523.0000</td>\n",
       "      <td>4.6700</td>\n",
       "      <td>3.0000</td>\n",
       "      <td>1520824.0000</td>\n",
       "    </tr>\n",
       "    <tr>\n",
       "      <th>50%</th>\n",
       "      <td>32.7300</td>\n",
       "      <td>4.0000</td>\n",
       "      <td>1158.0000</td>\n",
       "      <td>560.0000</td>\n",
       "      <td>16.2500</td>\n",
       "      <td>9.0000</td>\n",
       "      <td>NaN</td>\n",
       "      <td>690.0000</td>\n",
       "      <td>6.6650</td>\n",
       "      <td>4.0000</td>\n",
       "      <td>1542382.0000</td>\n",
       "    </tr>\n",
       "    <tr>\n",
       "      <th>75%</th>\n",
       "      <td>32.7300</td>\n",
       "      <td>4.0000</td>\n",
       "      <td>1742.0000</td>\n",
       "      <td>724.0000</td>\n",
       "      <td>20.3700</td>\n",
       "      <td>19.0000</td>\n",
       "      <td>NaN</td>\n",
       "      <td>879.0000</td>\n",
       "      <td>9.1400</td>\n",
       "      <td>4.0000</td>\n",
       "      <td>1561431.0000</td>\n",
       "    </tr>\n",
       "    <tr>\n",
       "      <th>max</th>\n",
       "      <td>32.7300</td>\n",
       "      <td>4.0000</td>\n",
       "      <td>13201.0000</td>\n",
       "      <td>4368.5000</td>\n",
       "      <td>90.1000</td>\n",
       "      <td>176.0000</td>\n",
       "      <td>NaN</td>\n",
       "      <td>4295.5000</td>\n",
       "      <td>54.8100</td>\n",
       "      <td>4.0000</td>\n",
       "      <td>1583491.0000</td>\n",
       "    </tr>\n",
       "  </tbody>\n",
       "</table>\n",
       "</div>"
      ],
      "text/plain": [
       "       kemendagri_kabupaten_kode  jam_level  median_length  \\\n",
       "count                 11281.0000 11281.0000     11281.0000   \n",
       "mean                     32.7300     3.5471      1389.0950   \n",
       "std                       0.0000     0.5788       853.6588   \n",
       "min                      32.7300     1.0000       500.0000   \n",
       "25%                      32.7300     3.0000       788.0000   \n",
       "50%                      32.7300     4.0000      1158.0000   \n",
       "75%                      32.7300     4.0000      1742.0000   \n",
       "max                      32.7300     4.0000     13201.0000   \n",
       "\n",
       "       median_delay_seconds  median_regular_speed  total_records  cause_type  \\\n",
       "count            11281.0000            11281.0000     11281.0000      0.0000   \n",
       "mean               584.4868               17.4797        14.0081         NaN   \n",
       "std                275.7439                9.1330        14.9567         NaN   \n",
       "min                -97.0000                2.4500         1.0000         NaN   \n",
       "25%                402.0000               12.4450         4.0000         NaN   \n",
       "50%                560.0000               16.2500         9.0000         NaN   \n",
       "75%                724.0000               20.3700        19.0000         NaN   \n",
       "max               4368.5000               90.1000       176.0000         NaN   \n",
       "\n",
       "       median_seconds  median_speed  median_jam_level           id  \n",
       "count      11281.0000    11281.0000        11281.0000   11281.0000  \n",
       "mean         723.9772        7.4301            3.5471 1540736.9231  \n",
       "std          308.1615        4.2803            0.5788   25637.8360  \n",
       "min          132.0000        0.8800            1.0000 1492844.0000  \n",
       "25%          523.0000        4.6700            3.0000 1520824.0000  \n",
       "50%          690.0000        6.6650            4.0000 1542382.0000  \n",
       "75%          879.0000        9.1400            4.0000 1561431.0000  \n",
       "max         4295.5000       54.8100            4.0000 1583491.0000  "
      ]
     },
     "execution_count": 111,
     "metadata": {},
     "output_type": "execute_result"
    }
   ],
   "source": [
    "irregular.describe()"
   ]
  },
  {
   "cell_type": "markdown",
   "id": "756f99c3",
   "metadata": {},
   "source": [
    "### Null Values"
   ]
  },
  {
   "cell_type": "code",
   "execution_count": 112,
   "id": "4117e281",
   "metadata": {},
   "outputs": [
    {
     "data": {
      "text/plain": [
       "time                             0\n",
       "kemendagri_kabupaten_kode        0\n",
       "kemendagri_kabupaten_nama        0\n",
       "street                           2\n",
       "jam_level                        0\n",
       "median_length                    0\n",
       "median_delay_seconds             0\n",
       "median_regular_speed             0\n",
       "total_records                    0\n",
       "cause_type                   11281\n",
       "median_seconds                   0\n",
       "median_speed                     0\n",
       "date                             0\n",
       "median_jam_level                 0\n",
       "id                               0\n",
       "geometry                         0\n",
       "dtype: int64"
      ]
     },
     "execution_count": 112,
     "metadata": {},
     "output_type": "execute_result"
    }
   ],
   "source": [
    "irregular.isna().sum()"
   ]
  },
  {
   "cell_type": "markdown",
   "id": "b3dec9e1",
   "metadata": {},
   "source": [
    "terdapat 2 variabel yang memiliki data null. Variabel cause_type akan dihapus karena semua datanya null.\n",
    "data yang kosong di variabel `street` akan diisi dengan `location unknown` "
   ]
  },
  {
   "cell_type": "markdown",
   "id": "e49de9a9",
   "metadata": {},
   "source": [
    "### Duplicated Data "
   ]
  },
  {
   "cell_type": "code",
   "execution_count": 113,
   "id": "bc8e7c16",
   "metadata": {},
   "outputs": [
    {
     "data": {
      "text/plain": [
       "0"
      ]
     },
     "execution_count": 113,
     "metadata": {},
     "output_type": "execute_result"
    }
   ],
   "source": [
    "irregular.duplicated().sum()"
   ]
  },
  {
   "cell_type": "markdown",
   "id": "744678c7",
   "metadata": {},
   "source": [
    "### Data Cleansing"
   ]
  },
  {
   "cell_type": "code",
   "execution_count": 114,
   "id": "2629cf5c",
   "metadata": {},
   "outputs": [
    {
     "data": {
      "text/html": [
       "<div>\n",
       "<style scoped>\n",
       "    .dataframe tbody tr th:only-of-type {\n",
       "        vertical-align: middle;\n",
       "    }\n",
       "\n",
       "    .dataframe tbody tr th {\n",
       "        vertical-align: top;\n",
       "    }\n",
       "\n",
       "    .dataframe thead th {\n",
       "        text-align: right;\n",
       "    }\n",
       "</style>\n",
       "<table border=\"1\" class=\"dataframe\">\n",
       "  <thead>\n",
       "    <tr style=\"text-align: right;\">\n",
       "      <th></th>\n",
       "      <th>time</th>\n",
       "      <th>street</th>\n",
       "      <th>jam_level</th>\n",
       "      <th>median_length</th>\n",
       "      <th>median_delay_seconds</th>\n",
       "      <th>median_regular_speed</th>\n",
       "      <th>total_records</th>\n",
       "      <th>median_seconds</th>\n",
       "      <th>median_speed</th>\n",
       "      <th>date</th>\n",
       "      <th>median_jam_level</th>\n",
       "      <th>id</th>\n",
       "      <th>geometry</th>\n",
       "    </tr>\n",
       "  </thead>\n",
       "  <tbody>\n",
       "    <tr>\n",
       "      <th>3783</th>\n",
       "      <td>2022-07-26 12:00:00.000</td>\n",
       "      <td>Garuda</td>\n",
       "      <td>4</td>\n",
       "      <td>658.0000</td>\n",
       "      <td>420.0000</td>\n",
       "      <td>20.3450</td>\n",
       "      <td>12</td>\n",
       "      <td>487.0000</td>\n",
       "      <td>4.8500</td>\n",
       "      <td>2022-07-26</td>\n",
       "      <td>4.0000</td>\n",
       "      <td>1527148</td>\n",
       "      <td>MULTILINESTRING ((107.577589 -6.913658, 107.57...</td>\n",
       "    </tr>\n",
       "  </tbody>\n",
       "</table>\n",
       "</div>"
      ],
      "text/plain": [
       "                         time  street  jam_level  median_length  \\\n",
       "3783  2022-07-26 12:00:00.000  Garuda          4       658.0000   \n",
       "\n",
       "      median_delay_seconds  median_regular_speed  total_records  \\\n",
       "3783              420.0000               20.3450             12   \n",
       "\n",
       "      median_seconds  median_speed        date  median_jam_level       id  \\\n",
       "3783        487.0000        4.8500  2022-07-26            4.0000  1527148   \n",
       "\n",
       "                                               geometry  \n",
       "3783  MULTILINESTRING ((107.577589 -6.913658, 107.57...  "
      ]
     },
     "execution_count": 114,
     "metadata": {},
     "output_type": "execute_result"
    }
   ],
   "source": [
    "irregular = irregular.drop(['kemendagri_kabupaten_kode','kemendagri_kabupaten_nama','cause_type'],axis=1)\n",
    "irregular.sample()"
   ]
  },
  {
   "cell_type": "code",
   "execution_count": 115,
   "id": "d1dc0947",
   "metadata": {},
   "outputs": [],
   "source": [
    "irregular.street = irregular.street.fillna('location unknown')"
   ]
  },
  {
   "cell_type": "code",
   "execution_count": 116,
   "id": "0129305a",
   "metadata": {},
   "outputs": [
    {
     "data": {
      "text/plain": [
       "time                    0\n",
       "street                  0\n",
       "jam_level               0\n",
       "median_length           0\n",
       "median_delay_seconds    0\n",
       "median_regular_speed    0\n",
       "total_records           0\n",
       "median_seconds          0\n",
       "median_speed            0\n",
       "date                    0\n",
       "median_jam_level        0\n",
       "id                      0\n",
       "geometry                0\n",
       "dtype: int64"
      ]
     },
     "execution_count": 116,
     "metadata": {},
     "output_type": "execute_result"
    }
   ],
   "source": [
    "irregular.isna().sum()"
   ]
  },
  {
   "cell_type": "markdown",
   "id": "9695d6cc",
   "metadata": {},
   "source": [
    "### Convert Data Type"
   ]
  },
  {
   "cell_type": "code",
   "execution_count": 117,
   "id": "925ba196",
   "metadata": {},
   "outputs": [],
   "source": [
    "irregular['time'] = pd.to_datetime(irregular['time'], errors='coerce')\n",
    "irregular['date'] = pd.to_datetime(irregular['date'], errors='coerce')"
   ]
  },
  {
   "cell_type": "markdown",
   "id": "04757006",
   "metadata": {},
   "source": [
    "## Exploratory Data Analysis"
   ]
  },
  {
   "cell_type": "markdown",
   "id": "8f9d48b9",
   "metadata": {},
   "source": [
    "Univariate"
   ]
  },
  {
   "cell_type": "code",
   "execution_count": 118,
   "id": "86583278",
   "metadata": {},
   "outputs": [
    {
     "data": {
      "image/png": "[encoded data removed]",
      "text/plain": [
       "<Figure size 1080x576 with 6 Axes>"
      ]
     },
     "metadata": {
      "needs_background": "light"
     },
     "output_type": "display_data"
    }
   ],
   "source": [
    "(\n",
    "    irregular\n",
    "    .loc[:,['median_length', 'median_delay_seconds', 'median_regular_speed','total_records','median_seconds','median_speed']]\n",
    "    .hist(bins=20, figsize=(15,8), layout=(-1,3))\n",
    ")\n",
    "\n",
    "plt.tight_layout()"
   ]
  },
  {
   "cell_type": "code",
   "execution_count": 119,
   "id": "9ac184a7",
   "metadata": {},
   "outputs": [
    {
     "data": {
      "image/png": "[encoded data removed]",
      "text/plain": [
       "<Figure size 432x288 with 1 Axes>"
      ]
     },
     "metadata": {
      "needs_background": "light"
     },
     "output_type": "display_data"
    }
   ],
   "source": [
    "ax = sns.countplot(x='jam_level', data=irregular)\n",
    "for p in ax.patches:\n",
    "  ax.annotate('{:.0f}'.format(p.get_height()), (p.get_x()+0.25, p.get_height()+0.02))\n",
    "\n",
    "plt.show()"
   ]
  },
  {
   "cell_type": "code",
   "execution_count": 120,
   "id": "500700e1",
   "metadata": {},
   "outputs": [
    {
     "data": {
      "text/plain": [
       "street\n",
       "Dago Giri                   1172.0000\n",
       "Tol Pasir Koja               959.0000\n",
       "Pasirmuncang                 904.0000\n",
       "Terusan Gegerkalong Hilir    895.0000\n",
       "Jalan Citarum                843.0000\n",
       "                               ...   \n",
       "Jalan Raya Dayeuhkolot       287.5000\n",
       "Cibodas Raya                 261.0000\n",
       "Wastukencana                 257.0000\n",
       "Cilengkrang 1                251.5000\n",
       "Cinangka                     215.0000\n",
       "Name: median_delay_seconds, Length: 230, dtype: float64"
      ]
     },
     "execution_count": 120,
     "metadata": {},
     "output_type": "execute_result"
    }
   ],
   "source": [
    "irregular.groupby('street')['median_delay_seconds'].median().sort_values(ascending=False)"
   ]
  },
  {
   "cell_type": "code",
   "execution_count": 121,
   "id": "be317e27",
   "metadata": {},
   "outputs": [],
   "source": [
    "def line_plot_street(street, column):\n",
    "    plt.figure(figsize=(8,6))\n",
    "    sns.lineplot(data=irregular[irregular['street'] == street], x='time', y=column)\n",
    "    plt.title('Tren {} in {}'.format(column,street), size=20, pad=20, weight='bold')\n",
    "    plt.xticks(rotation=45)\n",
    "    plt.show()"
   ]
  },
  {
   "cell_type": "code",
   "execution_count": 66,
   "id": "a7721114",
   "metadata": {},
   "outputs": [
    {
     "data": {
      "image/png": "[encoded data removed]",
      "text/plain": [
       "<Figure size 576x432 with 1 Axes>"
      ]
     },
     "metadata": {
      "needs_background": "light"
     },
     "output_type": "display_data"
    },
    {
     "name": "stdout",
     "output_type": "stream",
     "text": [
      "None\n"
     ]
    }
   ],
   "source": [
    "print(line_plot_street('Dago Giri', 'median_delay_seconds'))"
   ]
  },
  {
   "cell_type": "markdown",
   "id": "c86e621e",
   "metadata": {},
   "source": [
    "### Correlation"
   ]
  },
  {
   "cell_type": "code",
   "execution_count": 122,
   "id": "6f7c85ef",
   "metadata": {},
   "outputs": [
    {
     "data": {
      "image/png": "[encoded data removed]",
      "text/plain": [
       "<Figure size 720x576 with 2 Axes>"
      ]
     },
     "metadata": {
      "needs_background": "light"
     },
     "output_type": "display_data"
    }
   ],
   "source": [
    "plt.figure(figsize=(10,8))\n",
    "sns.heatmap(irregular.corr(), annot=True)\n",
    "plt.title('Correlation', pad=20, size=20, weight='bold')\n",
    "plt.show()"
   ]
  },
  {
   "cell_type": "markdown",
   "id": "2366254b",
   "metadata": {},
   "source": [
    "### Remove Features"
   ]
  },
  {
   "cell_type": "markdown",
   "id": "5990be88",
   "metadata": {},
   "source": [
    "untuk melanjutkan ke tahap analisis, maka menghapus feature yang tidak digunakan yaitu `time`, `street`, `date` dan `median_jam_level`"
   ]
  },
  {
   "cell_type": "code",
   "execution_count": 123,
   "id": "90c4a7e1",
   "metadata": {},
   "outputs": [
    {
     "data": {
      "text/html": [
       "<div>\n",
       "<style scoped>\n",
       "    .dataframe tbody tr th:only-of-type {\n",
       "        vertical-align: middle;\n",
       "    }\n",
       "\n",
       "    .dataframe tbody tr th {\n",
       "        vertical-align: top;\n",
       "    }\n",
       "\n",
       "    .dataframe thead th {\n",
       "        text-align: right;\n",
       "    }\n",
       "</style>\n",
       "<table border=\"1\" class=\"dataframe\">\n",
       "  <thead>\n",
       "    <tr style=\"text-align: right;\">\n",
       "      <th></th>\n",
       "      <th>jam_level</th>\n",
       "      <th>median_length</th>\n",
       "      <th>median_delay_seconds</th>\n",
       "      <th>median_regular_speed</th>\n",
       "      <th>total_records</th>\n",
       "      <th>median_seconds</th>\n",
       "      <th>median_speed</th>\n",
       "    </tr>\n",
       "  </thead>\n",
       "  <tbody>\n",
       "    <tr>\n",
       "      <th>8335</th>\n",
       "      <td>4</td>\n",
       "      <td>674.0000</td>\n",
       "      <td>1055.0000</td>\n",
       "      <td>23.6900</td>\n",
       "      <td>23</td>\n",
       "      <td>1166.0000</td>\n",
       "      <td>2.0800</td>\n",
       "    </tr>\n",
       "  </tbody>\n",
       "</table>\n",
       "</div>"
      ],
      "text/plain": [
       "      jam_level  median_length  median_delay_seconds  median_regular_speed  \\\n",
       "8335          4       674.0000             1055.0000               23.6900   \n",
       "\n",
       "      total_records  median_seconds  median_speed  \n",
       "8335             23       1166.0000        2.0800  "
      ]
     },
     "execution_count": 123,
     "metadata": {},
     "output_type": "execute_result"
    }
   ],
   "source": [
    "irregular = irregular.drop(['time','street','date','median_jam_level','id','geometry'],axis=1)\n",
    "irregular.sample()"
   ]
  },
  {
   "cell_type": "markdown",
   "id": "106b2692",
   "metadata": {},
   "source": [
    "### Feature Scalling"
   ]
  },
  {
   "cell_type": "code",
   "execution_count": 124,
   "id": "65037c9d",
   "metadata": {},
   "outputs": [
    {
     "data": {
      "text/html": [
       "<div>\n",
       "<style scoped>\n",
       "    .dataframe tbody tr th:only-of-type {\n",
       "        vertical-align: middle;\n",
       "    }\n",
       "\n",
       "    .dataframe tbody tr th {\n",
       "        vertical-align: top;\n",
       "    }\n",
       "\n",
       "    .dataframe thead th {\n",
       "        text-align: right;\n",
       "    }\n",
       "</style>\n",
       "<table border=\"1\" class=\"dataframe\">\n",
       "  <thead>\n",
       "    <tr style=\"text-align: right;\">\n",
       "      <th></th>\n",
       "      <th>jam_level</th>\n",
       "      <th>median_length</th>\n",
       "      <th>median_delay_seconds</th>\n",
       "      <th>median_regular_speed</th>\n",
       "      <th>total_records</th>\n",
       "      <th>median_seconds</th>\n",
       "      <th>median_speed</th>\n",
       "    </tr>\n",
       "  </thead>\n",
       "  <tbody>\n",
       "    <tr>\n",
       "      <th>0</th>\n",
       "      <td>4</td>\n",
       "      <td>0.6243</td>\n",
       "      <td>0.2630</td>\n",
       "      <td>-0.1872</td>\n",
       "      <td>-0.0674</td>\n",
       "      <td>0.3895</td>\n",
       "      <td>0.0187</td>\n",
       "    </tr>\n",
       "    <tr>\n",
       "      <th>1</th>\n",
       "      <td>3</td>\n",
       "      <td>0.5036</td>\n",
       "      <td>-0.5929</td>\n",
       "      <td>0.0504</td>\n",
       "      <td>-0.8029</td>\n",
       "      <td>-0.4932</td>\n",
       "      <td>0.9742</td>\n",
       "    </tr>\n",
       "    <tr>\n",
       "      <th>2</th>\n",
       "      <td>4</td>\n",
       "      <td>-0.3808</td>\n",
       "      <td>0.0055</td>\n",
       "      <td>-0.3241</td>\n",
       "      <td>-0.2011</td>\n",
       "      <td>-0.1589</td>\n",
       "      <td>-0.3014</td>\n",
       "    </tr>\n",
       "    <tr>\n",
       "      <th>3</th>\n",
       "      <td>4</td>\n",
       "      <td>-0.5507</td>\n",
       "      <td>-0.0942</td>\n",
       "      <td>-0.2611</td>\n",
       "      <td>0.4006</td>\n",
       "      <td>-0.2985</td>\n",
       "      <td>-0.5748</td>\n",
       "    </tr>\n",
       "    <tr>\n",
       "      <th>4</th>\n",
       "      <td>3</td>\n",
       "      <td>0.7438</td>\n",
       "      <td>0.0526</td>\n",
       "      <td>-0.1806</td>\n",
       "      <td>-0.8698</td>\n",
       "      <td>0.2013</td>\n",
       "      <td>0.4275</td>\n",
       "    </tr>\n",
       "  </tbody>\n",
       "</table>\n",
       "</div>"
      ],
      "text/plain": [
       "   jam_level  median_length  median_delay_seconds  median_regular_speed  \\\n",
       "0          4         0.6243                0.2630               -0.1872   \n",
       "1          3         0.5036               -0.5929                0.0504   \n",
       "2          4        -0.3808                0.0055               -0.3241   \n",
       "3          4        -0.5507               -0.0942               -0.2611   \n",
       "4          3         0.7438                0.0526               -0.1806   \n",
       "\n",
       "   total_records  median_seconds  median_speed  \n",
       "0        -0.0674          0.3895        0.0187  \n",
       "1        -0.8029         -0.4932        0.9742  \n",
       "2        -0.2011         -0.1589       -0.3014  \n",
       "3         0.4006         -0.2985       -0.5748  \n",
       "4        -0.8698          0.2013        0.4275  "
      ]
     },
     "execution_count": 124,
     "metadata": {},
     "output_type": "execute_result"
    }
   ],
   "source": [
    "from sklearn.preprocessing import StandardScaler\n",
    "\n",
    "feat_scalling = list(irregular.select_dtypes('number').columns)\n",
    "feat_scalling.remove('jam_level')\n",
    "irregular[feat_scalling] = StandardScaler().fit_transform(irregular[feat_scalling])\n",
    "\n",
    "irregular.head()"
   ]
  },
  {
   "cell_type": "markdown",
   "id": "d04b2ffb",
   "metadata": {},
   "source": [
    "### Save Data"
   ]
  },
  {
   "cell_type": "code",
   "execution_count": 126,
   "id": "3023cc94",
   "metadata": {},
   "outputs": [],
   "source": [
    "irregular.to_csv('..\\\\data_ds\\\\irregular_preprocessing.csv')"
   ]
  },
  {
   "cell_type": "markdown",
   "id": "591544bd",
   "metadata": {},
   "source": [
    "### Separating Training and Testing Set"
   ]
  },
  {
   "cell_type": "code",
   "execution_count": 3,
   "id": "f617ef96",
   "metadata": {},
   "outputs": [
    {
     "data": {
      "text/html": [
       "<div>\n",
       "<style scoped>\n",
       "    .dataframe tbody tr th:only-of-type {\n",
       "        vertical-align: middle;\n",
       "    }\n",
       "\n",
       "    .dataframe tbody tr th {\n",
       "        vertical-align: top;\n",
       "    }\n",
       "\n",
       "    .dataframe thead th {\n",
       "        text-align: right;\n",
       "    }\n",
       "</style>\n",
       "<table border=\"1\" class=\"dataframe\">\n",
       "  <thead>\n",
       "    <tr style=\"text-align: right;\">\n",
       "      <th></th>\n",
       "      <th>jam_level</th>\n",
       "      <th>median_length</th>\n",
       "      <th>median_delay_seconds</th>\n",
       "      <th>median_regular_speed</th>\n",
       "      <th>total_records</th>\n",
       "      <th>median_seconds</th>\n",
       "      <th>median_speed</th>\n",
       "    </tr>\n",
       "  </thead>\n",
       "  <tbody>\n",
       "    <tr>\n",
       "      <th>0</th>\n",
       "      <td>4</td>\n",
       "      <td>0.6243</td>\n",
       "      <td>0.2630</td>\n",
       "      <td>-0.1872</td>\n",
       "      <td>-0.0674</td>\n",
       "      <td>0.3895</td>\n",
       "      <td>0.0187</td>\n",
       "    </tr>\n",
       "    <tr>\n",
       "      <th>1</th>\n",
       "      <td>3</td>\n",
       "      <td>0.5036</td>\n",
       "      <td>-0.5929</td>\n",
       "      <td>0.0504</td>\n",
       "      <td>-0.8029</td>\n",
       "      <td>-0.4932</td>\n",
       "      <td>0.9742</td>\n",
       "    </tr>\n",
       "    <tr>\n",
       "      <th>2</th>\n",
       "      <td>4</td>\n",
       "      <td>-0.3808</td>\n",
       "      <td>0.0055</td>\n",
       "      <td>-0.3241</td>\n",
       "      <td>-0.2011</td>\n",
       "      <td>-0.1589</td>\n",
       "      <td>-0.3014</td>\n",
       "    </tr>\n",
       "    <tr>\n",
       "      <th>3</th>\n",
       "      <td>4</td>\n",
       "      <td>-0.5507</td>\n",
       "      <td>-0.0942</td>\n",
       "      <td>-0.2611</td>\n",
       "      <td>0.4006</td>\n",
       "      <td>-0.2985</td>\n",
       "      <td>-0.5748</td>\n",
       "    </tr>\n",
       "    <tr>\n",
       "      <th>4</th>\n",
       "      <td>3</td>\n",
       "      <td>0.7438</td>\n",
       "      <td>0.0526</td>\n",
       "      <td>-0.1806</td>\n",
       "      <td>-0.8698</td>\n",
       "      <td>0.2013</td>\n",
       "      <td>0.4275</td>\n",
       "    </tr>\n",
       "  </tbody>\n",
       "</table>\n",
       "</div>"
      ],
      "text/plain": [
       "   jam_level  median_length  median_delay_seconds  median_regular_speed  \\\n",
       "0          4         0.6243                0.2630               -0.1872   \n",
       "1          3         0.5036               -0.5929                0.0504   \n",
       "2          4        -0.3808                0.0055               -0.3241   \n",
       "3          4        -0.5507               -0.0942               -0.2611   \n",
       "4          3         0.7438                0.0526               -0.1806   \n",
       "\n",
       "   total_records  median_seconds  median_speed  \n",
       "0        -0.0674          0.3895        0.0187  \n",
       "1        -0.8029         -0.4932        0.9742  \n",
       "2        -0.2011         -0.1589       -0.3014  \n",
       "3         0.4006         -0.2985       -0.5748  \n",
       "4        -0.8698          0.2013        0.4275  "
      ]
     },
     "execution_count": 3,
     "metadata": {},
     "output_type": "execute_result"
    }
   ],
   "source": [
    "data = pd.read_csv('..\\\\data_ds\\\\irregular_preprocessing.csv')\n",
    "data = data.drop(['Unnamed: 0'],axis=1)\n",
    "data.head()"
   ]
  },
  {
   "cell_type": "code",
   "execution_count": 4,
   "id": "9c283967",
   "metadata": {},
   "outputs": [],
   "source": [
    "X = data.drop('jam_level', axis=1)\n",
    "y = data['jam_level']"
   ]
  },
  {
   "cell_type": "code",
   "execution_count": 8,
   "id": "959a18ae",
   "metadata": {},
   "outputs": [
    {
     "name": "stdout",
     "output_type": "stream",
     "text": [
      "X_train : (9024, 6)\n",
      "y_train : (9024,)\n",
      "X_test : (2257, 6)\n",
      "y_test : (2257,)\n"
     ]
    }
   ],
   "source": [
    "X_train, X_test, y_train, y_test = train_test_split(X, y, test_size=0.2, random_state=42)\n",
    "print('X_train :', X_train.shape)\n",
    "print('y_train :', y_train.shape)\n",
    "print('X_test :', X_test.shape)\n",
    "print('y_test :', y_test.shape)"
   ]
  },
  {
   "cell_type": "markdown",
   "id": "2a540730",
   "metadata": {},
   "source": [
    "### Oversampling using SMOTE"
   ]
  },
  {
   "cell_type": "code",
   "execution_count": 9,
   "id": "a8d4918c",
   "metadata": {},
   "outputs": [
    {
     "data": {
      "text/plain": [
       "4    6635\n",
       "3    4212\n",
       "2     405\n",
       "1      29\n",
       "Name: jam_level, dtype: int64"
      ]
     },
     "execution_count": 9,
     "metadata": {},
     "output_type": "execute_result"
    }
   ],
   "source": [
    "pd.Series(y).value_counts()"
   ]
  },
  {
   "cell_type": "code",
   "execution_count": 10,
   "id": "e1bc31b5",
   "metadata": {},
   "outputs": [
    {
     "data": {
      "text/plain": [
       "4    5321\n",
       "2    5321\n",
       "3    5321\n",
       "1    5321\n",
       "Name: jam_level, dtype: int64"
      ]
     },
     "execution_count": 10,
     "metadata": {},
     "output_type": "execute_result"
    }
   ],
   "source": [
    "X_train_smote, y_train_smote = SMOTE().fit_resample(X_train, y_train)\n",
    "pd.Series(y_train_smote).value_counts()"
   ]
  },
  {
   "cell_type": "markdown",
   "id": "275ca1be",
   "metadata": {},
   "source": [
    "### Modelling"
   ]
  },
  {
   "cell_type": "code",
   "execution_count": 52,
   "id": "0c6b9de8",
   "metadata": {},
   "outputs": [],
   "source": [
    "import pandas as pd\n",
    "import numpy as np\n",
    "from sklearn import preprocessing\n",
    "from sklearn.preprocessing import LabelEncoder\n",
    "from imblearn.over_sampling import SMOTE\n",
    "from sklearn.model_selection import train_test_split,cross_val_score,StratifiedKFold,KFold,GridSearchCV,cross_validate\n",
    "from sklearn.linear_model import LogisticRegression\n",
    "from sklearn.svm import SVC\n",
    "from sklearn.tree import DecisionTreeClassifier\n",
    "from sklearn.ensemble import RandomForestClassifier\n",
    "from sklearn.naive_bayes import GaussianNB\n",
    "\n",
    "from sklearn.metrics import auc, roc_curve, roc_auc_score\n",
    "from sklearn.metrics import accuracy_score, f1_score\n",
    "from sklearn.metrics import classification_report, confusion_matrix, ConfusionMatrixDisplay,accuracy_score"
   ]
  },
  {
   "cell_type": "code",
   "execution_count": 20,
   "id": "23307aa6",
   "metadata": {},
   "outputs": [],
   "source": [
    "lr = LogisticRegression()\n",
    "svm = SVC()\n",
    "dtc = DecisionTreeClassifier()\n",
    "random = RandomForestClassifier()\n",
    "nb = GaussianNB()\n",
    "\n",
    "model = [lr, svm, dtc, random, nb]\n",
    "model_name = []\n",
    "for name in model:\n",
    "    names = str(type(name)).split('.')[-1][:-2]\n",
    "    model_name.append(names)"
   ]
  },
  {
   "cell_type": "code",
   "execution_count": 27,
   "id": "91bb258e",
   "metadata": {},
   "outputs": [
    {
     "name": "stderr",
     "output_type": "stream",
     "text": [
      "[Parallel(n_jobs=-1)]: Using backend LokyBackend with 8 concurrent workers.\n",
      "[Parallel(n_jobs=-1)]: Done   2 out of   5 | elapsed:    0.3s remaining:    0.4s\n",
      "[Parallel(n_jobs=-1)]: Done   5 out of   5 | elapsed:    0.3s finished\n",
      "[Parallel(n_jobs=-1)]: Using backend LokyBackend with 8 concurrent workers.\n",
      "[Parallel(n_jobs=-1)]: Done   2 out of   5 | elapsed:    1.7s remaining:    2.6s\n",
      "[Parallel(n_jobs=-1)]: Done   5 out of   5 | elapsed:    1.7s finished\n",
      "[Parallel(n_jobs=-1)]: Using backend LokyBackend with 8 concurrent workers.\n",
      "[Parallel(n_jobs=-1)]: Done   2 out of   5 | elapsed:    0.0s remaining:    0.0s\n",
      "[Parallel(n_jobs=-1)]: Done   5 out of   5 | elapsed:    0.0s finished\n",
      "[Parallel(n_jobs=-1)]: Using backend LokyBackend with 8 concurrent workers.\n",
      "[Parallel(n_jobs=-1)]: Done   2 out of   5 | elapsed:    1.1s remaining:    1.7s\n",
      "[Parallel(n_jobs=-1)]: Done   5 out of   5 | elapsed:    1.1s finished\n",
      "[Parallel(n_jobs=-1)]: Using backend LokyBackend with 8 concurrent workers.\n",
      "[Parallel(n_jobs=-1)]: Done   2 out of   5 | elapsed:    0.0s remaining:    0.0s\n",
      "[Parallel(n_jobs=-1)]: Done   5 out of   5 | elapsed:    0.0s finished\n"
     ]
    }
   ],
   "source": [
    "lr_score = cross_val_score(model[0], X, y, scoring='accuracy', cv=5, n_jobs=-1, verbose=1)\n",
    "svm_score = cross_val_score(model[1], X, y, scoring='accuracy', cv=5, n_jobs=-1, verbose=1)\n",
    "dtc_score = cross_val_score(model[2], X, y, scoring='accuracy', cv=5, n_jobs=-1, verbose=1)\n",
    "random_score = cross_val_score(model[3], X, y, scoring='accuracy', cv=5, n_jobs=-1, verbose=1)\n",
    "nb_score = cross_val_score(model[4], X, y, scoring='accuracy', cv=5, n_jobs=-1, verbose=1)"
   ]
  },
  {
   "cell_type": "code",
   "execution_count": 28,
   "id": "61bc8851",
   "metadata": {},
   "outputs": [
    {
     "data": {
      "text/html": [
       "<div>\n",
       "<style scoped>\n",
       "    .dataframe tbody tr th:only-of-type {\n",
       "        vertical-align: middle;\n",
       "    }\n",
       "\n",
       "    .dataframe tbody tr th {\n",
       "        vertical-align: top;\n",
       "    }\n",
       "\n",
       "    .dataframe thead th {\n",
       "        text-align: right;\n",
       "    }\n",
       "</style>\n",
       "<table border=\"1\" class=\"dataframe\">\n",
       "  <thead>\n",
       "    <tr style=\"text-align: right;\">\n",
       "      <th></th>\n",
       "      <th>0</th>\n",
       "      <th>1</th>\n",
       "      <th>2</th>\n",
       "      <th>3</th>\n",
       "      <th>4</th>\n",
       "    </tr>\n",
       "  </thead>\n",
       "  <tbody>\n",
       "    <tr>\n",
       "      <th>LogisticRegression</th>\n",
       "      <td>0.8985</td>\n",
       "      <td>0.8941</td>\n",
       "      <td>0.8901</td>\n",
       "      <td>0.8927</td>\n",
       "      <td>0.8941</td>\n",
       "    </tr>\n",
       "    <tr>\n",
       "      <th>SVC</th>\n",
       "      <td>0.9039</td>\n",
       "      <td>0.8914</td>\n",
       "      <td>0.8932</td>\n",
       "      <td>0.8927</td>\n",
       "      <td>0.8901</td>\n",
       "    </tr>\n",
       "    <tr>\n",
       "      <th>DecisionTreeClassifier</th>\n",
       "      <td>0.8609</td>\n",
       "      <td>0.8573</td>\n",
       "      <td>0.8586</td>\n",
       "      <td>0.8435</td>\n",
       "      <td>0.8520</td>\n",
       "    </tr>\n",
       "    <tr>\n",
       "      <th>RandomForestClassifier</th>\n",
       "      <td>0.9056</td>\n",
       "      <td>0.8910</td>\n",
       "      <td>0.8985</td>\n",
       "      <td>0.8892</td>\n",
       "      <td>0.8892</td>\n",
       "    </tr>\n",
       "    <tr>\n",
       "      <th>GaussianNB</th>\n",
       "      <td>0.8609</td>\n",
       "      <td>0.8351</td>\n",
       "      <td>0.8311</td>\n",
       "      <td>0.8369</td>\n",
       "      <td>0.8404</td>\n",
       "    </tr>\n",
       "  </tbody>\n",
       "</table>\n",
       "</div>"
      ],
      "text/plain": [
       "                            0      1      2      3      4\n",
       "LogisticRegression     0.8985 0.8941 0.8901 0.8927 0.8941\n",
       "SVC                    0.9039 0.8914 0.8932 0.8927 0.8901\n",
       "DecisionTreeClassifier 0.8609 0.8573 0.8586 0.8435 0.8520\n",
       "RandomForestClassifier 0.9056 0.8910 0.8985 0.8892 0.8892\n",
       "GaussianNB             0.8609 0.8351 0.8311 0.8369 0.8404"
      ]
     },
     "execution_count": 28,
     "metadata": {},
     "output_type": "execute_result"
    }
   ],
   "source": [
    "cv_result = [\n",
    "            lr_score, svm_score, dtc_score, random_score, nb_score]\n",
    "\n",
    "data_cv_result = pd.DataFrame(cv_result, index=model_name)\n",
    "data_cv_result"
   ]
  },
  {
   "cell_type": "code",
   "execution_count": 29,
   "id": "cd4a1f63",
   "metadata": {},
   "outputs": [
    {
     "data": {
      "text/html": [
       "<div>\n",
       "<style scoped>\n",
       "    .dataframe tbody tr th:only-of-type {\n",
       "        vertical-align: middle;\n",
       "    }\n",
       "\n",
       "    .dataframe tbody tr th {\n",
       "        vertical-align: top;\n",
       "    }\n",
       "\n",
       "    .dataframe thead th {\n",
       "        text-align: right;\n",
       "    }\n",
       "</style>\n",
       "<table border=\"1\" class=\"dataframe\">\n",
       "  <thead>\n",
       "    <tr style=\"text-align: right;\">\n",
       "      <th></th>\n",
       "      <th>score_mean</th>\n",
       "    </tr>\n",
       "  </thead>\n",
       "  <tbody>\n",
       "    <tr>\n",
       "      <th>RandomForestClassifier</th>\n",
       "      <td>0.8947</td>\n",
       "    </tr>\n",
       "    <tr>\n",
       "      <th>SVC</th>\n",
       "      <td>0.8942</td>\n",
       "    </tr>\n",
       "    <tr>\n",
       "      <th>LogisticRegression</th>\n",
       "      <td>0.8939</td>\n",
       "    </tr>\n",
       "    <tr>\n",
       "      <th>DecisionTreeClassifier</th>\n",
       "      <td>0.8544</td>\n",
       "    </tr>\n",
       "    <tr>\n",
       "      <th>GaussianNB</th>\n",
       "      <td>0.8409</td>\n",
       "    </tr>\n",
       "  </tbody>\n",
       "</table>\n",
       "</div>"
      ],
      "text/plain": [
       "                        score_mean\n",
       "RandomForestClassifier      0.8947\n",
       "SVC                         0.8942\n",
       "LogisticRegression          0.8939\n",
       "DecisionTreeClassifier      0.8544\n",
       "GaussianNB                  0.8409"
      ]
     },
     "execution_count": 29,
     "metadata": {},
     "output_type": "execute_result"
    }
   ],
   "source": [
    "cv_mean = []\n",
    "i = 0\n",
    "for mean in cv_result:\n",
    "    mean = cv_result[i].mean()\n",
    "    cv_mean.append(mean)\n",
    "    i += 1\n",
    "    \n",
    "data_cv = pd.DataFrame({'score_mean':cv_mean}, index=model_name).sort_values(['score_mean'], ascending =False)\n",
    "data_cv"
   ]
  },
  {
   "cell_type": "markdown",
   "id": "649164c2",
   "metadata": {},
   "source": [
    "`RandomForestClassifier` memiliki performa terbaik dengan rata-rata nilai akurasi sebesar 89,47%"
   ]
  },
  {
   "cell_type": "code",
   "execution_count": 43,
   "id": "7bb8ec5a",
   "metadata": {},
   "outputs": [],
   "source": [
    "train_score = []\n",
    "test_score = []\n",
    "default_model = []\n",
    "\n",
    "skf = StratifiedKFold(random_state=42, shuffle=True)\n",
    "data_train_test = pd.DataFrame()\n",
    "\n",
    "for train_index, test_index in skf.split(X_train_smote, y_train_smote):\n",
    "    for i in model:\n",
    "        default_model.append(i.fit(X_train_smote, y_train_smote))\n",
    "        train_score.append(i.score(X_train_smote, y_train_smote))\n",
    "        test_score.append(i.score(X_test, y_test))"
   ]
  },
  {
   "cell_type": "code",
   "execution_count": 44,
   "id": "904ee91f",
   "metadata": {},
   "outputs": [],
   "source": [
    "train_score_lr = np.sum(train_score[0::12])/len(train_score[0::12])\n",
    "train_score_svm = np.sum(train_score[1::12])/len(train_score[1::12])\n",
    "train_score_dtc = np.sum(train_score[2::12])/len(train_score[2::12])\n",
    "train_score_random = np.sum(train_score[3::12])/len(train_score[3::12])\n",
    "train_score_nb = np.sum(train_score[4::12])/len(train_score[4::12])"
   ]
  },
  {
   "cell_type": "code",
   "execution_count": 45,
   "id": "e24397c1",
   "metadata": {},
   "outputs": [],
   "source": [
    "test_score_lr = np.sum(test_score[0::12])/len(test_score[0::12])\n",
    "test_score_svm = np.sum(test_score[1::12])/len(test_score[1::12])\n",
    "test_score_dtc = np.sum(test_score[2::12])/len(test_score[2::12])\n",
    "test_score_random = np.sum(test_score[3::12])/len(test_score[3::12])\n",
    "test_score_nb = np.sum(test_score[4::12])/len(test_score[4::12])"
   ]
  },
  {
   "cell_type": "code",
   "execution_count": 48,
   "id": "1ce79f42",
   "metadata": {},
   "outputs": [
    {
     "data": {
      "text/html": [
       "<div>\n",
       "<style scoped>\n",
       "    .dataframe tbody tr th:only-of-type {\n",
       "        vertical-align: middle;\n",
       "    }\n",
       "\n",
       "    .dataframe tbody tr th {\n",
       "        vertical-align: top;\n",
       "    }\n",
       "\n",
       "    .dataframe thead th {\n",
       "        text-align: right;\n",
       "    }\n",
       "</style>\n",
       "<table border=\"1\" class=\"dataframe\">\n",
       "  <thead>\n",
       "    <tr style=\"text-align: right;\">\n",
       "      <th></th>\n",
       "      <th>train score</th>\n",
       "      <th>test score</th>\n",
       "      <th>difference</th>\n",
       "    </tr>\n",
       "  </thead>\n",
       "  <tbody>\n",
       "    <tr>\n",
       "      <th>GaussianNB</th>\n",
       "      <td>0.8516</td>\n",
       "      <td>0.8316</td>\n",
       "      <td>0.0199</td>\n",
       "    </tr>\n",
       "    <tr>\n",
       "      <th>LogisticRegression</th>\n",
       "      <td>0.9019</td>\n",
       "      <td>0.8423</td>\n",
       "      <td>0.0596</td>\n",
       "    </tr>\n",
       "    <tr>\n",
       "      <th>RandomForestClassifier</th>\n",
       "      <td>0.9578</td>\n",
       "      <td>0.8908</td>\n",
       "      <td>0.0670</td>\n",
       "    </tr>\n",
       "    <tr>\n",
       "      <th>SVC</th>\n",
       "      <td>0.9565</td>\n",
       "      <td>0.8883</td>\n",
       "      <td>0.0682</td>\n",
       "    </tr>\n",
       "    <tr>\n",
       "      <th>DecisionTreeClassifier</th>\n",
       "      <td>0.8950</td>\n",
       "      <td>0.8226</td>\n",
       "      <td>0.0725</td>\n",
       "    </tr>\n",
       "  </tbody>\n",
       "</table>\n",
       "</div>"
      ],
      "text/plain": [
       "                        train score  test score  difference\n",
       "GaussianNB                   0.8516      0.8316      0.0199\n",
       "LogisticRegression           0.9019      0.8423      0.0596\n",
       "RandomForestClassifier       0.9578      0.8908      0.0670\n",
       "SVC                          0.9565      0.8883      0.0682\n",
       "DecisionTreeClassifier       0.8950      0.8226      0.0725"
      ]
     },
     "execution_count": 48,
     "metadata": {},
     "output_type": "execute_result"
    }
   ],
   "source": [
    "train_ = [train_score_lr, train_score_svm, train_score_dtc, train_score_random,train_score_nb]\n",
    "\n",
    "test_ = [test_score_lr,test_score_svm,test_score_dtc, test_score_random,test_score_nb]\n",
    "\n",
    "data_avg_score = pd.DataFrame({\n",
    "    'train score' :train_,\n",
    "    'test score' :test_},\n",
    "    index=model_name)\n",
    "\n",
    "data_avg_score['difference'] = abs(data_avg_score['train score'] - data_avg_score['test score'])\n",
    "data_avg_score = data_avg_score.sort_values(['difference'], ascending=True)\n",
    "data_avg_score"
   ]
  },
  {
   "cell_type": "markdown",
   "id": "d38aad17",
   "metadata": {},
   "source": [
    "Berdasarkan hasil dari evaluasi model, maka dipilih model dengan `Logistic Regression` karena nilai training dan testing yang cukup tinggi "
   ]
  },
  {
   "cell_type": "markdown",
   "id": "72830c2b",
   "metadata": {},
   "source": [
    "### Logistic Regression"
   ]
  },
  {
   "cell_type": "code",
   "execution_count": 50,
   "id": "19766244",
   "metadata": {},
   "outputs": [
    {
     "name": "stdout",
     "output_type": "stream",
     "text": [
      "Training Accuracy : 91.56%\n",
      "Test Accuracy : 88.21%\n",
      "F1 Macro : 73.2%\n"
     ]
    }
   ],
   "source": [
    "lr = LogisticRegression()\n",
    "lr.fit(X_train_smote, y_train_smote)\n",
    "\n",
    "y_predict = lr.predict(X_test)\n",
    "\n",
    "train_score_ = round((lr.score(X_train_smote, y_train_smote) * 100), 2)\n",
    "test_score_ = round((lr.score(X_test, y_test) * 100), 2)\n",
    "f1_score_ = round((f1_score(y_test, y_predict, average='macro')) * 100,2)\n",
    "\n",
    "print('Training Accuracy : {}%'.format(train_score_))\n",
    "print('Test Accuracy : {}%'.format(test_score_))\n",
    "print('F1 Macro : {}%'.format(f1_score_))"
   ]
  },
  {
   "cell_type": "markdown",
   "id": "42844a9a",
   "metadata": {},
   "source": [
    "### Model Evaluation"
   ]
  },
  {
   "cell_type": "code",
   "execution_count": 53,
   "id": "0a07dc8e",
   "metadata": {},
   "outputs": [
    {
     "data": {
      "image/png": "[encoded data removed]",
      "text/plain": [
       "<Figure size 432x288 with 2 Axes>"
      ]
     },
     "metadata": {
      "needs_background": "light"
     },
     "output_type": "display_data"
    }
   ],
   "source": [
    "confusion_matrix = confusion_matrix(y_test, y_predict)\n",
    "ConfusionMatrixDisplay(confusion_matrix).plot()\n",
    "plt.show()"
   ]
  },
  {
   "cell_type": "code",
   "execution_count": 55,
   "id": "4f981180",
   "metadata": {},
   "outputs": [
    {
     "name": "stdout",
     "output_type": "stream",
     "text": [
      "              precision    recall  f1-score   support\n",
      "\n",
      "           1       0.30      0.75      0.43         4\n",
      "           2       0.61      0.92      0.73        83\n",
      "           3       0.85      0.86      0.85       856\n",
      "           4       0.94      0.90      0.92      1314\n",
      "\n",
      "    accuracy                           0.88      2257\n",
      "   macro avg       0.67      0.85      0.73      2257\n",
      "weighted avg       0.89      0.88      0.88      2257\n",
      "\n"
     ]
    }
   ],
   "source": [
    "classification = classification_report(y_test, y_predict)\n",
    "print(classification)"
   ]
  },
  {
   "cell_type": "code",
   "execution_count": null,
   "id": "2f7ec8b7",
   "metadata": {},
   "outputs": [],
   "source": []
  }
 ],
 "metadata": {
  "kernelspec": {
   "display_name": "Python 3 (ipykernel)",
   "language": "python",
   "name": "python3"
  },
  "language_info": {
   "codemirror_mode": {
    "name": "ipython",
    "version": 3
   },
   "file_extension": ".py",
   "mimetype": "text/x-python",
   "name": "python",
   "nbconvert_exporter": "python",
   "pygments_lexer": "ipython3",
   "version": "3.9.7"
  }
 },
 "nbformat": 4,
 "nbformat_minor": 5
}
